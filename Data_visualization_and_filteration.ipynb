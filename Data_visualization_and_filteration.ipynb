{
 "cells": [
  {
   "cell_type": "code",
   "execution_count": 1,
   "id": "6898b033-c791-4241-bd37-56911a885e72",
   "metadata": {},
   "outputs": [],
   "source": [
    "import pandas as pd\n",
    "import numpy as np\n",
    "from torchvision import datasets, transforms\n",
    "from torch.utils.data import DataLoader\n",
    "from collections import Counter\n"
   ]
  },
  {
   "cell_type": "code",
   "execution_count": 2,
   "id": "956093b1-5297-4cf9-a272-8b011aed435e",
   "metadata": {},
   "outputs": [],
   "source": [
    "transform = transforms.Compose([\n",
    "    transforms.Resize((224,224)),\n",
    "    transforms.ToTensor()\n",
    "])\n"
   ]
  },
  {
   "cell_type": "code",
   "execution_count": 3,
   "id": "8227586a-1145-4548-ae6a-98e767c3a725",
   "metadata": {},
   "outputs": [],
   "source": [
    "dataset_path = \"./Data/First Set/\"\n",
    "dataset = datasets.ImageFolder(root = dataset_path, transform = transform)"
   ]
  },
  {
   "cell_type": "code",
   "execution_count": 4,
   "id": "850b17d9-52b9-4553-9ec8-c5c6078be669",
   "metadata": {},
   "outputs": [
    {
     "name": "stdout",
     "output_type": "stream",
     "text": [
      "Classes: ['100x Normal Oral Cavity Histopathological Images', '100x OSCC Histopathological Images']\n",
      "Number of images: 529\n"
     ]
    }
   ],
   "source": [
    "print(\"Classes:\", dataset.classes)\n",
    "print(\"Number of images:\", len(dataset))"
   ]
  },
  {
   "cell_type": "code",
   "execution_count": 5,
   "id": "f3bfdf38-3ff8-472f-9571-a6cc5ffc34c8",
   "metadata": {},
   "outputs": [],
   "source": [
    "# class_counts = Counter([label for _, label in dataset])\n",
    "# for idx, class_name in enumerate(dataset.classes):\n",
    "#     print(f\"{class_name}: {class_counts[idx]} images\")"
   ]
  },
  {
   "cell_type": "code",
   "execution_count": 6,
   "id": "164b12ee-1e1a-4f1b-8fa9-92a5a31b7219",
   "metadata": {},
   "outputs": [],
   "source": [
    "dataloader = DataLoader(dataset, batch_size = 8, shuffle=True)"
   ]
  },
  {
   "cell_type": "code",
   "execution_count": 7,
   "id": "7d465cbb-b788-45f0-9721-157e0681160c",
   "metadata": {},
   "outputs": [],
   "source": [
    "# def imshow(imgs, labels, class_names):\n",
    "#     imgs = imgs.numpy()\n",
    "#     fig, axes = plt.subplots(1,4, figsize=(12, 6))\n",
    "#     for i, ax in enumerate(axes.flat):\n",
    "#         img = np.transpose(imgs[i], (1,2,0))\n",
    "#         ax.imshow(img)\n",
    "#         ax.set_title(f\"Label: {class_names[labels[i]]}\")\n",
    "#         ax.axis(\"off\")\n",
    "#     plt.savefig(\"sample_images.png\")\n",
    "\n",
    "# images, labels = next(iter(dataloader))\n",
    "# imshow(images, labels, dataset.classes)"
   ]
  },
  {
   "cell_type": "code",
   "execution_count": 12,
   "id": "fad89d76-e98f-4218-af5f-9d639330529d",
   "metadata": {},
   "outputs": [],
   "source": [
    "from PIL import Image\n",
    "import random \n",
    "img_path = \"./Data/Firstset/100xNormalOralCavityHistopathologicalImages/Normal_100x_\"\n",
    "r = random.randint(1, 100)\n",
    "image = Image.open(f'{img_path}{r}.jpg')\n",
    "image.show()"
   ]
  },
  {
   "cell_type": "code",
   "execution_count": 25,
   "id": "9a43a594-4719-477d-bc71-3b5222dd47a9",
   "metadata": {},
   "outputs": [
    {
     "name": "stdout",
     "output_type": "stream",
     "text": [
      "yes\n"
     ]
    },
    {
     "ename": "FileNotFoundError",
     "evalue": "[WinError 3] The system cannot find the path specified: './Data/Firstset/100xNormalOralCavityHistopathologicalImages/100xOSCCHistopathologicalImages'",
     "output_type": "error",
     "traceback": [
      "\u001b[1;31m---------------------------------------------------------------------------\u001b[0m",
      "\u001b[1;31mFileNotFoundError\u001b[0m                         Traceback (most recent call last)",
      "Cell \u001b[1;32mIn[25], line 14\u001b[0m\n\u001b[0;32m     12\u001b[0m \u001b[38;5;28;01mfor\u001b[39;00m sd \u001b[38;5;129;01min\u001b[39;00m subdirs:\n\u001b[0;32m     13\u001b[0m     path \u001b[38;5;241m=\u001b[39m path \u001b[38;5;241m+\u001b[39m \u001b[38;5;124m'\u001b[39m\u001b[38;5;124m/\u001b[39m\u001b[38;5;124m'\u001b[39m \u001b[38;5;241m+\u001b[39m sd\n\u001b[1;32m---> 14\u001b[0m     \u001b[38;5;28;01mfor\u001b[39;00m image \u001b[38;5;129;01min\u001b[39;00m \u001b[43mos\u001b[49m\u001b[38;5;241;43m.\u001b[39;49m\u001b[43mlistdir\u001b[49m\u001b[43m(\u001b[49m\u001b[43mpath\u001b[49m\u001b[43m)\u001b[49m:\n\u001b[0;32m     15\u001b[0m         \u001b[38;5;28mprint\u001b[39m(\u001b[38;5;124m'\u001b[39m\u001b[38;5;124myes\u001b[39m\u001b[38;5;124m'\u001b[39m)\n\u001b[0;32m     16\u001b[0m         \u001b[38;5;28;01mbreak\u001b[39;00m\n",
      "\u001b[1;31mFileNotFoundError\u001b[0m: [WinError 3] The system cannot find the path specified: './Data/Firstset/100xNormalOralCavityHistopathologicalImages/100xOSCCHistopathologicalImages'"
     ]
    }
   ],
   "source": [
    "from IPython.display import display\n",
    "from PIL import Image\n",
    "import os\n",
    "import random\n",
    "root_dir = './Data/'\n",
    "sets = [item for item in os.listdir(root_dir) if not item.startswith('.')]\n",
    "\n",
    "for dr in sets:\n",
    "    path = root_dir + dr\n",
    "    subdirs = [item for item in os.listdir(path) if not item.startswith('.')]\n",
    "    r = random.randint(1, 100)\n",
    "    for sd in subdirs:\n",
    "        path = path + '/' + sd\n",
    "        for image in os.listdir(path):\n",
    "            print('yes')\n",
    "            break\n",
    "    # print(subdirs)\n",
    "# sets"
   ]
  },
  {
   "cell_type": "code",
   "execution_count": null,
   "id": "ed7e1d4e-ed64-44e9-bff9-aa2cd7fddbb1",
   "metadata": {},
   "outputs": [],
   "source": []
  }
 ],
 "metadata": {
  "kernelspec": {
   "display_name": "Python 3 (ipykernel)",
   "language": "python",
   "name": "python3"
  },
  "language_info": {
   "codemirror_mode": {
    "name": "ipython",
    "version": 3
   },
   "file_extension": ".py",
   "mimetype": "text/x-python",
   "name": "python",
   "nbconvert_exporter": "python",
   "pygments_lexer": "ipython3",
   "version": "3.10.18"
  }
 },
 "nbformat": 4,
 "nbformat_minor": 5
}
